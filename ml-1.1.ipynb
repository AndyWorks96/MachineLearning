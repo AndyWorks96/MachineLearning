{
 "cells": [
  {
   "cell_type": "code",
   "execution_count": 91,
   "metadata": {
    "collapsed": true
   },
   "outputs": [],
   "source": [
    "# 此处定义一个处理GDP和生活满意度的函数"
   ]
  },
  {
   "cell_type": "code",
   "execution_count": 92,
   "metadata": {
    "collapsed": true
   },
   "outputs": [],
   "source": [
    "def prepare_country_stats(oecd_bli, gdp_per_capita):\n",
    "    oecd_bli = oecd_bli[oecd_bli[\"INEQUALITY\"]==\"TOT\"]\n",
    "    # pivot数据透视表，index行，columns列。\n",
    "    oecd_bli = oecd_bli.pivot(index=\"Country\", columns=\"Indicator\", values=\"Value\")\n",
    "    # print(oecd_bli)\n",
    "    # inplace不创建新的对象，直接对原始对象进行修改\n",
    "    # print(gdp_per_capita)\n",
    "    gdp_per_capita.rename(columns={\"2015\": \"GDP per capita\"}, inplace=True)\n",
    "    # 将列转化为行索引\n",
    "    gdp_per_capita.set_index(\"Country\", inplace=True)\n",
    "    # left_index表示连接键\n",
    "    full_country_stats = pd.merge(left=oecd_bli, right=gdp_per_capita,\n",
    "                                  left_index=True, right_index=True)\n",
    "    print(full_country_stats)\n",
    "    full_country_stats.sort_values(by=\"GDP per capita\", inplace=True)\n",
    "    remove_indices = [0, 1, 6, 8, 33, 34, 35]\n",
    "    keep_indices = list(set(range(36)) - set(remove_indices))\n",
    "    # iloc通过行号取数据\n",
    "    return full_country_stats[[\"GDP per capita\", 'Life satisfaction']].iloc[keep_indices]"
   ]
  },
  {
   "cell_type": "code",
   "execution_count": 93,
   "metadata": {
    "collapsed": true
   },
   "outputs": [],
   "source": [
    "import matplotlib"
   ]
  },
  {
   "cell_type": "code",
   "execution_count": 94,
   "metadata": {
    "collapsed": true
   },
   "outputs": [],
   "source": [
    "import matplotlib.pyplot as plt"
   ]
  },
  {
   "cell_type": "code",
   "execution_count": 95,
   "metadata": {
    "collapsed": true
   },
   "outputs": [],
   "source": [
    "import numpy as np"
   ]
  },
  {
   "cell_type": "code",
   "execution_count": 96,
   "metadata": {
    "collapsed": true
   },
   "outputs": [],
   "source": [
    "import pandas as pd"
   ]
  },
  {
   "cell_type": "code",
   "execution_count": 97,
   "metadata": {
    "collapsed": true
   },
   "outputs": [],
   "source": [
    "import sklearn"
   ]
  },
  {
   "cell_type": "code",
   "execution_count": 98,
   "metadata": {
    "collapsed": true
   },
   "outputs": [],
   "source": [
    "from sklearn.linear_model import LinearRegression"
   ]
  },
  {
   "cell_type": "code",
   "execution_count": 99,
   "metadata": {
    "collapsed": true
   },
   "outputs": [],
   "source": [
    "# Load the data"
   ]
  },
  {
   "cell_type": "code",
   "execution_count": 101,
   "metadata": {},
   "outputs": [],
   "source": [
    "oecd_li = pd.read_csv(\"./datasets/oecd_bli_2015.csv\",thousands=',')"
   ]
  },
  {
   "cell_type": "code",
   "execution_count": 102,
   "metadata": {
    "collapsed": true
   },
   "outputs": [],
   "source": [
    "# oecd_li = oecd_li[oecd_li[\"INEQUALITY\"]==\"TOT\"]"
   ]
  },
  {
   "cell_type": "code",
   "execution_count": 103,
   "metadata": {
    "collapsed": true
   },
   "outputs": [],
   "source": [
    "# print(oecd_li)"
   ]
  },
  {
   "cell_type": "code",
   "execution_count": 105,
   "metadata": {},
   "outputs": [],
   "source": [
    "gdp_per_capita = pd.read_csv(\"./datasets/gdp_per_capita.csv\",thousands=',',delimiter='\\t',\n",
    "                             encoding='latin1',na_values = \"n/a\")"
   ]
  },
  {
   "cell_type": "code",
   "execution_count": 88,
   "metadata": {
    "collapsed": true
   },
   "outputs": [],
   "source": [
    "# prepare the data"
   ]
  },
  {
   "cell_type": "code",
   "execution_count": 89,
   "metadata": {},
   "outputs": [
    {
     "name": "stdout",
     "output_type": "stream",
     "text": [
      "                 Air pollution  Assault rate  Consultation on rule-making  \\\n",
      "Country                                                                     \n",
      "Australia                 13.0           2.1                         10.5   \n",
      "Austria                   27.0           3.4                          7.1   \n",
      "Belgium                   21.0           6.6                          4.5   \n",
      "Brazil                    18.0           7.9                          4.0   \n",
      "Canada                    15.0           1.3                         10.5   \n",
      "Chile                     46.0           6.9                          2.0   \n",
      "Czech Republic            16.0           2.8                          6.8   \n",
      "Denmark                   15.0           3.9                          7.0   \n",
      "Estonia                    9.0           5.5                          3.3   \n",
      "Finland                   15.0           2.4                          9.0   \n",
      "France                    12.0           5.0                          3.5   \n",
      "Germany                   16.0           3.6                          4.5   \n",
      "Greece                    27.0           3.7                          6.5   \n",
      "Hungary                   15.0           3.6                          7.9   \n",
      "Iceland                   18.0           2.7                          5.1   \n",
      "Ireland                   13.0           2.6                          9.0   \n",
      "Israel                    21.0           6.4                          2.5   \n",
      "Italy                     21.0           4.7                          5.0   \n",
      "Japan                     24.0           1.4                          7.3   \n",
      "Korea                     30.0           2.1                         10.4   \n",
      "Luxembourg                12.0           4.3                          6.0   \n",
      "Mexico                    30.0          12.8                          9.0   \n",
      "Netherlands               30.0           4.9                          6.1   \n",
      "New Zealand               11.0           2.2                         10.3   \n",
      "Norway                    16.0           3.3                          8.1   \n",
      "Poland                    33.0           1.4                         10.8   \n",
      "Portugal                  18.0           5.7                          6.5   \n",
      "Russia                    15.0           3.8                          2.5   \n",
      "Slovak Republic           13.0           3.0                          6.6   \n",
      "Slovenia                  26.0           3.9                         10.3   \n",
      "Spain                     24.0           4.2                          7.3   \n",
      "Sweden                    10.0           5.1                         10.9   \n",
      "Switzerland               20.0           4.2                          8.4   \n",
      "Turkey                    35.0           5.0                          5.5   \n",
      "United Kingdom            13.0           1.9                         11.5   \n",
      "United States             18.0           1.5                          8.3   \n",
      "\n",
      "                 Dwellings without basic facilities  Educational attainment  \\\n",
      "Country                                                                       \n",
      "Australia                                       1.1                    76.0   \n",
      "Austria                                         1.0                    83.0   \n",
      "Belgium                                         2.0                    72.0   \n",
      "Brazil                                          6.7                    45.0   \n",
      "Canada                                          0.2                    89.0   \n",
      "Chile                                           9.4                    57.0   \n",
      "Czech Republic                                  0.9                    92.0   \n",
      "Denmark                                         0.9                    78.0   \n",
      "Estonia                                         8.1                    90.0   \n",
      "Finland                                         0.6                    85.0   \n",
      "France                                          0.5                    73.0   \n",
      "Germany                                         0.1                    86.0   \n",
      "Greece                                          0.7                    68.0   \n",
      "Hungary                                         4.8                    82.0   \n",
      "Iceland                                         0.4                    71.0   \n",
      "Ireland                                         0.2                    75.0   \n",
      "Israel                                          3.7                    85.0   \n",
      "Italy                                           1.1                    57.0   \n",
      "Japan                                           6.4                    94.0   \n",
      "Korea                                           4.2                    82.0   \n",
      "Luxembourg                                      0.1                    78.0   \n",
      "Mexico                                          4.2                    37.0   \n",
      "Netherlands                                     0.0                    73.0   \n",
      "New Zealand                                     0.2                    74.0   \n",
      "Norway                                          0.3                    82.0   \n",
      "Poland                                          3.2                    90.0   \n",
      "Portugal                                        0.9                    38.0   \n",
      "Russia                                         15.1                    94.0   \n",
      "Slovak Republic                                 0.6                    92.0   \n",
      "Slovenia                                        0.5                    85.0   \n",
      "Spain                                           0.1                    55.0   \n",
      "Sweden                                          0.0                    88.0   \n",
      "Switzerland                                     0.0                    86.0   \n",
      "Turkey                                         12.7                    34.0   \n",
      "United Kingdom                                  0.2                    78.0   \n",
      "United States                                   0.1                    89.0   \n",
      "\n",
      "                 Employees working very long hours  Employment rate  \\\n",
      "Country                                                               \n",
      "Australia                                    14.02             72.0   \n",
      "Austria                                       7.61             72.0   \n",
      "Belgium                                       4.57             62.0   \n",
      "Brazil                                       10.41             67.0   \n",
      "Canada                                        3.94             72.0   \n",
      "Chile                                        15.42             62.0   \n",
      "Czech Republic                                6.98             68.0   \n",
      "Denmark                                       2.03             73.0   \n",
      "Estonia                                       3.30             68.0   \n",
      "Finland                                       3.58             69.0   \n",
      "France                                        8.15             64.0   \n",
      "Germany                                       5.25             73.0   \n",
      "Greece                                        6.16             49.0   \n",
      "Hungary                                       3.19             58.0   \n",
      "Iceland                                      12.25             82.0   \n",
      "Ireland                                       4.20             60.0   \n",
      "Israel                                       16.03             67.0   \n",
      "Italy                                         3.66             56.0   \n",
      "Japan                                        22.26             72.0   \n",
      "Korea                                        18.72             64.0   \n",
      "Luxembourg                                    3.47             66.0   \n",
      "Mexico                                       28.83             61.0   \n",
      "Netherlands                                   0.45             74.0   \n",
      "New Zealand                                  13.87             73.0   \n",
      "Norway                                        2.82             75.0   \n",
      "Poland                                        7.41             60.0   \n",
      "Portugal                                      9.62             61.0   \n",
      "Russia                                        0.16             69.0   \n",
      "Slovak Republic                               7.02             60.0   \n",
      "Slovenia                                      5.63             63.0   \n",
      "Spain                                         5.89             56.0   \n",
      "Sweden                                        1.13             74.0   \n",
      "Switzerland                                   6.72             80.0   \n",
      "Turkey                                       40.86             50.0   \n",
      "United Kingdom                               12.70             71.0   \n",
      "United States                                11.30             67.0   \n",
      "\n",
      "                 Homicide rate  Household net adjusted disposable income  \\\n",
      "Country                                                                    \n",
      "Australia                  0.8                                   31588.0   \n",
      "Austria                    0.4                                   31173.0   \n",
      "Belgium                    1.1                                   28307.0   \n",
      "Brazil                    25.5                                   11664.0   \n",
      "Canada                     1.5                                   29365.0   \n",
      "Chile                      4.4                                   14533.0   \n",
      "Czech Republic             0.8                                   18404.0   \n",
      "Denmark                    0.3                                   26491.0   \n",
      "Estonia                    4.8                                   15167.0   \n",
      "Finland                    1.4                                   27927.0   \n",
      "France                     0.6                                   28799.0   \n",
      "Germany                    0.5                                   31252.0   \n",
      "Greece                     1.6                                   18575.0   \n",
      "Hungary                    1.3                                   15442.0   \n",
      "Iceland                    0.3                                   23965.0   \n",
      "Ireland                    0.8                                   23917.0   \n",
      "Israel                     2.3                                   22104.0   \n",
      "Italy                      0.7                                   25166.0   \n",
      "Japan                      0.3                                   26111.0   \n",
      "Korea                      1.1                                   19510.0   \n",
      "Luxembourg                 0.4                                   38951.0   \n",
      "Mexico                    23.4                                   13085.0   \n",
      "Netherlands                0.9                                   27888.0   \n",
      "New Zealand                1.2                                   23815.0   \n",
      "Norway                     0.6                                   33492.0   \n",
      "Poland                     0.9                                   17852.0   \n",
      "Portugal                   1.1                                   20086.0   \n",
      "Russia                    12.8                                   19292.0   \n",
      "Slovak Republic            1.2                                   17503.0   \n",
      "Slovenia                   0.4                                   19326.0   \n",
      "Spain                      0.6                                   22477.0   \n",
      "Sweden                     0.7                                   29185.0   \n",
      "Switzerland                0.5                                   33491.0   \n",
      "Turkey                     1.2                                   14095.0   \n",
      "United Kingdom             0.3                                   27029.0   \n",
      "United States              5.2                                   41355.0   \n",
      "\n",
      "                 Household net financial wealth          ...            \\\n",
      "Country                                                  ...             \n",
      "Australia                               47657.0          ...             \n",
      "Austria                                 49887.0          ...             \n",
      "Belgium                                 83876.0          ...             \n",
      "Brazil                                   6844.0          ...             \n",
      "Canada                                  67913.0          ...             \n",
      "Chile                                   17733.0          ...             \n",
      "Czech Republic                          17299.0          ...             \n",
      "Denmark                                 44488.0          ...             \n",
      "Estonia                                  7680.0          ...             \n",
      "Finland                                 18761.0          ...             \n",
      "France                                  48741.0          ...             \n",
      "Germany                                 50394.0          ...             \n",
      "Greece                                  14579.0          ...             \n",
      "Hungary                                 13277.0          ...             \n",
      "Iceland                                 43045.0          ...             \n",
      "Ireland                                 31580.0          ...             \n",
      "Israel                                  52933.0          ...             \n",
      "Italy                                   54987.0          ...             \n",
      "Japan                                   86764.0          ...             \n",
      "Korea                                   29091.0          ...             \n",
      "Luxembourg                              61765.0          ...             \n",
      "Mexico                                   9056.0          ...             \n",
      "Netherlands                             77961.0          ...             \n",
      "New Zealand                             28290.0          ...             \n",
      "Norway                                   8797.0          ...             \n",
      "Poland                                  10919.0          ...             \n",
      "Portugal                                31245.0          ...             \n",
      "Russia                                   3412.0          ...             \n",
      "Slovak Republic                          8663.0          ...             \n",
      "Slovenia                                18465.0          ...             \n",
      "Spain                                   24774.0          ...             \n",
      "Sweden                                  60328.0          ...             \n",
      "Switzerland                            108823.0          ...             \n",
      "Turkey                                   3251.0          ...             \n",
      "United Kingdom                          60778.0          ...             \n",
      "United States                          145769.0          ...             \n",
      "\n",
      "                 Time devoted to leisure and personal care  Voter turnout  \\\n",
      "Country                                                                     \n",
      "Australia                                            14.41           93.0   \n",
      "Austria                                              14.46           75.0   \n",
      "Belgium                                              15.71           89.0   \n",
      "Brazil                                               14.97           79.0   \n",
      "Canada                                               14.25           61.0   \n",
      "Chile                                                14.41           49.0   \n",
      "Czech Republic                                       14.98           59.0   \n",
      "Denmark                                              16.06           88.0   \n",
      "Estonia                                              14.90           64.0   \n",
      "Finland                                              14.89           69.0   \n",
      "France                                               15.33           80.0   \n",
      "Germany                                              15.31           72.0   \n",
      "Greece                                               14.91           64.0   \n",
      "Hungary                                              15.04           62.0   \n",
      "Iceland                                              14.61           81.0   \n",
      "Ireland                                              15.19           70.0   \n",
      "Israel                                               14.48           68.0   \n",
      "Italy                                                14.98           75.0   \n",
      "Japan                                                14.93           53.0   \n",
      "Korea                                                14.63           76.0   \n",
      "Luxembourg                                           15.12           91.0   \n",
      "Mexico                                               13.89           63.0   \n",
      "Netherlands                                          15.44           75.0   \n",
      "New Zealand                                          14.87           77.0   \n",
      "Norway                                               15.56           78.0   \n",
      "Poland                                               14.20           55.0   \n",
      "Portugal                                             14.95           58.0   \n",
      "Russia                                               14.97           65.0   \n",
      "Slovak Republic                                      14.99           59.0   \n",
      "Slovenia                                             14.62           52.0   \n",
      "Spain                                                16.06           69.0   \n",
      "Sweden                                               15.11           86.0   \n",
      "Switzerland                                          14.98           49.0   \n",
      "Turkey                                               13.42           88.0   \n",
      "United Kingdom                                       14.83           66.0   \n",
      "United States                                        14.27           68.0   \n",
      "\n",
      "                 Water quality  Years in education  \\\n",
      "Country                                              \n",
      "Australia                 91.0                19.4   \n",
      "Austria                   94.0                17.0   \n",
      "Belgium                   87.0                18.9   \n",
      "Brazil                    72.0                16.3   \n",
      "Canada                    91.0                17.2   \n",
      "Chile                     73.0                16.5   \n",
      "Czech Republic            85.0                18.1   \n",
      "Denmark                   94.0                19.4   \n",
      "Estonia                   79.0                17.5   \n",
      "Finland                   94.0                19.7   \n",
      "France                    82.0                16.4   \n",
      "Germany                   95.0                18.2   \n",
      "Greece                    69.0                18.6   \n",
      "Hungary                   77.0                17.6   \n",
      "Iceland                   97.0                19.8   \n",
      "Ireland                   80.0                17.6   \n",
      "Israel                    68.0                15.8   \n",
      "Italy                     71.0                16.8   \n",
      "Japan                     85.0                16.3   \n",
      "Korea                     78.0                17.5   \n",
      "Luxembourg                86.0                15.1   \n",
      "Mexico                    67.0                14.4   \n",
      "Netherlands               92.0                18.7   \n",
      "New Zealand               89.0                18.1   \n",
      "Norway                    94.0                17.9   \n",
      "Poland                    79.0                18.4   \n",
      "Portugal                  86.0                17.6   \n",
      "Russia                    56.0                16.0   \n",
      "Slovak Republic           81.0                16.3   \n",
      "Slovenia                  88.0                18.4   \n",
      "Spain                     71.0                17.6   \n",
      "Sweden                    95.0                19.3   \n",
      "Switzerland               96.0                17.3   \n",
      "Turkey                    62.0                16.4   \n",
      "United Kingdom            88.0                16.4   \n",
      "United States             85.0                17.2   \n",
      "\n",
      "                                                Subject Descriptor  \\\n",
      "Country                                                              \n",
      "Australia        Gross domestic product per capita, current prices   \n",
      "Austria          Gross domestic product per capita, current prices   \n",
      "Belgium          Gross domestic product per capita, current prices   \n",
      "Brazil           Gross domestic product per capita, current prices   \n",
      "Canada           Gross domestic product per capita, current prices   \n",
      "Chile            Gross domestic product per capita, current prices   \n",
      "Czech Republic   Gross domestic product per capita, current prices   \n",
      "Denmark          Gross domestic product per capita, current prices   \n",
      "Estonia          Gross domestic product per capita, current prices   \n",
      "Finland          Gross domestic product per capita, current prices   \n",
      "France           Gross domestic product per capita, current prices   \n",
      "Germany          Gross domestic product per capita, current prices   \n",
      "Greece           Gross domestic product per capita, current prices   \n",
      "Hungary          Gross domestic product per capita, current prices   \n",
      "Iceland          Gross domestic product per capita, current prices   \n",
      "Ireland          Gross domestic product per capita, current prices   \n",
      "Israel           Gross domestic product per capita, current prices   \n",
      "Italy            Gross domestic product per capita, current prices   \n",
      "Japan            Gross domestic product per capita, current prices   \n",
      "Korea            Gross domestic product per capita, current prices   \n",
      "Luxembourg       Gross domestic product per capita, current prices   \n",
      "Mexico           Gross domestic product per capita, current prices   \n",
      "Netherlands      Gross domestic product per capita, current prices   \n",
      "New Zealand      Gross domestic product per capita, current prices   \n",
      "Norway           Gross domestic product per capita, current prices   \n",
      "Poland           Gross domestic product per capita, current prices   \n",
      "Portugal         Gross domestic product per capita, current prices   \n",
      "Russia           Gross domestic product per capita, current prices   \n",
      "Slovak Republic  Gross domestic product per capita, current prices   \n",
      "Slovenia         Gross domestic product per capita, current prices   \n",
      "Spain            Gross domestic product per capita, current prices   \n",
      "Sweden           Gross domestic product per capita, current prices   \n",
      "Switzerland      Gross domestic product per capita, current prices   \n",
      "Turkey           Gross domestic product per capita, current prices   \n",
      "United Kingdom   Gross domestic product per capita, current prices   \n",
      "United States    Gross domestic product per capita, current prices   \n",
      "\n",
      "                        Units  Scale  \\\n",
      "Country                                \n",
      "Australia        U.S. dollars  Units   \n",
      "Austria          U.S. dollars  Units   \n",
      "Belgium          U.S. dollars  Units   \n",
      "Brazil           U.S. dollars  Units   \n",
      "Canada           U.S. dollars  Units   \n",
      "Chile            U.S. dollars  Units   \n",
      "Czech Republic   U.S. dollars  Units   \n",
      "Denmark          U.S. dollars  Units   \n",
      "Estonia          U.S. dollars  Units   \n",
      "Finland          U.S. dollars  Units   \n",
      "France           U.S. dollars  Units   \n",
      "Germany          U.S. dollars  Units   \n",
      "Greece           U.S. dollars  Units   \n",
      "Hungary          U.S. dollars  Units   \n",
      "Iceland          U.S. dollars  Units   \n",
      "Ireland          U.S. dollars  Units   \n",
      "Israel           U.S. dollars  Units   \n",
      "Italy            U.S. dollars  Units   \n",
      "Japan            U.S. dollars  Units   \n",
      "Korea            U.S. dollars  Units   \n",
      "Luxembourg       U.S. dollars  Units   \n",
      "Mexico           U.S. dollars  Units   \n",
      "Netherlands      U.S. dollars  Units   \n",
      "New Zealand      U.S. dollars  Units   \n",
      "Norway           U.S. dollars  Units   \n",
      "Poland           U.S. dollars  Units   \n",
      "Portugal         U.S. dollars  Units   \n",
      "Russia           U.S. dollars  Units   \n",
      "Slovak Republic  U.S. dollars  Units   \n",
      "Slovenia         U.S. dollars  Units   \n",
      "Spain            U.S. dollars  Units   \n",
      "Sweden           U.S. dollars  Units   \n",
      "Switzerland      U.S. dollars  Units   \n",
      "Turkey           U.S. dollars  Units   \n",
      "United Kingdom   U.S. dollars  Units   \n",
      "United States    U.S. dollars  Units   \n",
      "\n",
      "                                     Country/Series-specific Notes  \\\n",
      "Country                                                              \n",
      "Australia        See notes for:  Gross domestic product, curren...   \n",
      "Austria          See notes for:  Gross domestic product, curren...   \n",
      "Belgium          See notes for:  Gross domestic product, curren...   \n",
      "Brazil           See notes for:  Gross domestic product, curren...   \n",
      "Canada           See notes for:  Gross domestic product, curren...   \n",
      "Chile            See notes for:  Gross domestic product, curren...   \n",
      "Czech Republic   See notes for:  Gross domestic product, curren...   \n",
      "Denmark          See notes for:  Gross domestic product, curren...   \n",
      "Estonia          See notes for:  Gross domestic product, curren...   \n",
      "Finland          See notes for:  Gross domestic product, curren...   \n",
      "France           See notes for:  Gross domestic product, curren...   \n",
      "Germany          See notes for:  Gross domestic product, curren...   \n",
      "Greece           See notes for:  Gross domestic product, curren...   \n",
      "Hungary          See notes for:  Gross domestic product, curren...   \n",
      "Iceland          See notes for:  Gross domestic product, curren...   \n",
      "Ireland          See notes for:  Gross domestic product, curren...   \n",
      "Israel           See notes for:  Gross domestic product, curren...   \n",
      "Italy            See notes for:  Gross domestic product, curren...   \n",
      "Japan            See notes for:  Gross domestic product, curren...   \n",
      "Korea            See notes for:  Gross domestic product, curren...   \n",
      "Luxembourg       See notes for:  Gross domestic product, curren...   \n",
      "Mexico           See notes for:  Gross domestic product, curren...   \n",
      "Netherlands      See notes for:  Gross domestic product, curren...   \n",
      "New Zealand      See notes for:  Gross domestic product, curren...   \n",
      "Norway           See notes for:  Gross domestic product, curren...   \n",
      "Poland           See notes for:  Gross domestic product, curren...   \n",
      "Portugal         See notes for:  Gross domestic product, curren...   \n",
      "Russia           See notes for:  Gross domestic product, curren...   \n",
      "Slovak Republic  See notes for:  Gross domestic product, curren...   \n",
      "Slovenia         See notes for:  Gross domestic product, curren...   \n",
      "Spain            See notes for:  Gross domestic product, curren...   \n",
      "Sweden           See notes for:  Gross domestic product, curren...   \n",
      "Switzerland      See notes for:  Gross domestic product, curren...   \n",
      "Turkey           See notes for:  Gross domestic product, curren...   \n",
      "United Kingdom   See notes for:  Gross domestic product, curren...   \n",
      "United States    See notes for:  Gross domestic product, curren...   \n",
      "\n",
      "                 GDP per capita  Estimates Start After  \n",
      "Country                                                 \n",
      "Australia             50961.865                 2014.0  \n",
      "Austria               43724.031                 2015.0  \n",
      "Belgium               40106.632                 2014.0  \n",
      "Brazil                 8669.998                 2014.0  \n",
      "Canada                43331.961                 2015.0  \n",
      "Chile                 13340.905                 2014.0  \n",
      "Czech Republic        17256.918                 2015.0  \n",
      "Denmark               52114.165                 2015.0  \n",
      "Estonia               17288.083                 2014.0  \n",
      "Finland               41973.988                 2014.0  \n",
      "France                37675.006                 2015.0  \n",
      "Germany               40996.511                 2014.0  \n",
      "Greece                18064.288                 2014.0  \n",
      "Hungary               12239.894                 2015.0  \n",
      "Iceland               50854.583                 2014.0  \n",
      "Ireland               51350.744                 2014.0  \n",
      "Israel                35343.336                 2015.0  \n",
      "Italy                 29866.581                 2015.0  \n",
      "Japan                 32485.545                 2015.0  \n",
      "Korea                 27195.197                 2014.0  \n",
      "Luxembourg           101994.093                 2014.0  \n",
      "Mexico                 9009.280                 2015.0  \n",
      "Netherlands           43603.115                 2014.0  \n",
      "New Zealand           37044.891                 2015.0  \n",
      "Norway                74822.106                 2015.0  \n",
      "Poland                12495.334                 2014.0  \n",
      "Portugal              19121.592                 2014.0  \n",
      "Russia                 9054.914                 2015.0  \n",
      "Slovak Republic       15991.736                 2015.0  \n",
      "Slovenia              20732.482                 2015.0  \n",
      "Spain                 25864.721                 2014.0  \n",
      "Sweden                49866.266                 2014.0  \n",
      "Switzerland           80675.308                 2015.0  \n",
      "Turkey                 9437.372                 2013.0  \n",
      "United Kingdom        43770.688                 2015.0  \n",
      "United States         55805.204                 2015.0  \n",
      "\n",
      "[36 rows x 30 columns]\n"
     ]
    }
   ],
   "source": [
    "country_stats = prepare_country_stats(oecd_li,gdp_per_capita)"
   ]
  },
  {
   "cell_type": "code",
   "execution_count": 90,
   "metadata": {},
   "outputs": [
    {
     "name": "stdout",
     "output_type": "stream",
     "text": [
      "                 GDP per capita  Life satisfaction\n",
      "Country                                           \n",
      "Russia                 9054.914                6.0\n",
      "Turkey                 9437.372                5.6\n",
      "Hungary               12239.894                4.9\n",
      "Poland                12495.334                5.8\n",
      "Slovak Republic       15991.736                6.1\n",
      "Estonia               17288.083                5.6\n",
      "Greece                18064.288                4.8\n",
      "Portugal              19121.592                5.1\n",
      "Slovenia              20732.482                5.7\n",
      "Spain                 25864.721                6.5\n",
      "Korea                 27195.197                5.8\n",
      "Italy                 29866.581                6.0\n",
      "Japan                 32485.545                5.9\n",
      "Israel                35343.336                7.4\n",
      "New Zealand           37044.891                7.3\n",
      "France                37675.006                6.5\n",
      "Belgium               40106.632                6.9\n",
      "Germany               40996.511                7.0\n",
      "Finland               41973.988                7.4\n",
      "Canada                43331.961                7.3\n",
      "Netherlands           43603.115                7.3\n",
      "Austria               43724.031                6.9\n",
      "United Kingdom        43770.688                6.8\n",
      "Sweden                49866.266                7.2\n",
      "Iceland               50854.583                7.5\n",
      "Australia             50961.865                7.3\n",
      "Ireland               51350.744                7.0\n",
      "Denmark               52114.165                7.5\n",
      "United States         55805.204                7.2\n"
     ]
    }
   ],
   "source": [
    "print(country_stats)"
   ]
  },
  {
   "cell_type": "code",
   "execution_count": 32,
   "metadata": {
    "collapsed": true
   },
   "outputs": [],
   "source": [
    "X = np.c_[country_stats[\"GDP per capita\"]]"
   ]
  },
  {
   "cell_type": "code",
   "execution_count": 33,
   "metadata": {
    "collapsed": true
   },
   "outputs": [],
   "source": [
    "Y = np.c_[country_stats[\"Life satisfaction\"]]"
   ]
  },
  {
   "cell_type": "code",
   "execution_count": 35,
   "metadata": {
    "collapsed": true
   },
   "outputs": [],
   "source": [
    "# 可视化数据"
   ]
  },
  {
   "cell_type": "code",
   "execution_count": 36,
   "metadata": {},
   "outputs": [
    {
     "data": {
      "text/plain": [
       "<matplotlib.axes._subplots.AxesSubplot at 0x2543697a4e0>"
      ]
     },
     "execution_count": 36,
     "metadata": {},
     "output_type": "execute_result"
    },
    {
     "data": {
      "image/png": "[encoded data removed]",
      "text/plain": [
       "<matplotlib.figure.Figure at 0x25436838f98>"
      ]
     },
     "metadata": {
      "needs_background": "light"
     },
     "output_type": "display_data"
    }
   ],
   "source": [
    "country_stats.plot(kind='scatter',x=\"GDP per capita\",y=\"Life satisfaction\")"
   ]
  },
  {
   "cell_type": "code",
   "execution_count": 37,
   "metadata": {
    "collapsed": true
   },
   "outputs": [],
   "source": [
    "plt.show()"
   ]
  },
  {
   "cell_type": "code",
   "execution_count": 38,
   "metadata": {
    "collapsed": true
   },
   "outputs": [],
   "source": [
    "# 选择一个线性回归模型"
   ]
  },
  {
   "cell_type": "code",
   "execution_count": 44,
   "metadata": {
    "collapsed": true
   },
   "outputs": [],
   "source": [
    "lin_reg_model=LinearRegression()"
   ]
  },
  {
   "cell_type": "code",
   "execution_count": 45,
   "metadata": {
    "collapsed": true
   },
   "outputs": [],
   "source": [
    "# 训练模型"
   ]
  },
  {
   "cell_type": "code",
   "execution_count": 46,
   "metadata": {},
   "outputs": [
    {
     "data": {
      "text/plain": [
       "LinearRegression(copy_X=True, fit_intercept=True, n_jobs=1, normalize=False)"
      ]
     },
     "execution_count": 46,
     "metadata": {},
     "output_type": "execute_result"
    }
   ],
   "source": [
    "lin_reg_model.fit(X,Y)"
   ]
  },
  {
   "cell_type": "code",
   "execution_count": 47,
   "metadata": {
    "collapsed": true
   },
   "outputs": [],
   "source": [
    "# 进行预测对一个国家"
   ]
  },
  {
   "cell_type": "code",
   "execution_count": 48,
   "metadata": {
    "collapsed": true
   },
   "outputs": [],
   "source": [
    "X_new = [[22587]] # 该国家的GDP"
   ]
  },
  {
   "cell_type": "code",
   "execution_count": 49,
   "metadata": {},
   "outputs": [
    {
     "name": "stdout",
     "output_type": "stream",
     "text": [
      "[[ 5.96242338]]\n"
     ]
    }
   ],
   "source": [
    "print(lin_reg_model.predict(X_new)) "
   ]
  },
  {
   "cell_type": "markdown",
   "metadata": {
    "collapsed": true
   },
   "source": [
    "# 模型"
   ]
  },
  {
   "cell_type": "markdown",
   "metadata": {
    "collapsed": true
   },
   "source": [
    "# 行号"
   ]
  },
  {
   "cell_type": "code",
   "execution_count": null,
   "metadata": {
    "collapsed": true
   },
   "outputs": [],
   "source": []
  }
 ],
 "metadata": {
  "kernelspec": {
   "display_name": "Python 3",
   "language": "python",
   "name": "python3"
  },
  "language_info": {
   "codemirror_mode": {
    "name": "ipython",
    "version": 3
   },
   "file_extension": ".py",
   "mimetype": "text/x-python",
   "name": "python",
   "nbconvert_exporter": "python",
   "pygments_lexer": "ipython3",
   "version": "3.6.3"
  },
  "toc": {
   "base_numbering": 1,
   "nav_menu": {},
   "number_sections": true,
   "sideBar": true,
   "skip_h1_title": false,
   "title_cell": "Table of Contents",
   "title_sidebar": "Contents",
   "toc_cell": false,
   "toc_position": {
    "height": "calc(100% - 180px)",
    "left": "10px",
    "top": "150px",
    "width": "273px"
   },
   "toc_section_display": true,
   "toc_window_display": true
  }
 },
 "nbformat": 4,
 "nbformat_minor": 4
}
