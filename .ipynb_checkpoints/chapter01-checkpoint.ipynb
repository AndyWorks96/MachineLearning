{
 "cells": [
  {
   "cell_type": "code",
   "execution_count": 1,
   "metadata": {},
   "outputs": [
    {
     "data": {
      "text/plain": [
       "['',\n",
       " 'D:\\\\Python\\\\PyCharm\\\\Anacondainstall\\\\python36.zip',\n",
       " 'D:\\\\Python\\\\PyCharm\\\\Anacondainstall\\\\DLLs',\n",
       " 'D:\\\\Python\\\\PyCharm\\\\Anacondainstall\\\\lib',\n",
       " 'D:\\\\Python\\\\PyCharm\\\\Anacondainstall',\n",
       " 'C:\\\\Users\\\\李星\\\\AppData\\\\Roaming\\\\Python\\\\Python36\\\\site-packages',\n",
       " 'D:\\\\Python\\\\PyCharm\\\\Anacondainstall\\\\lib\\\\site-packages',\n",
       " 'D:\\\\Python\\\\PyCharm\\\\Anacondainstall\\\\lib\\\\site-packages\\\\Babel-2.5.0-py3.6.egg',\n",
       " 'D:\\\\Python\\\\PyCharm\\\\Anacondainstall\\\\envs\\\\pytorch_envs\\\\Lib\\\\site-packages',\n",
       " 'D:\\\\Python\\\\PyCharm\\\\Anacondainstall\\\\lib\\\\site-packages\\\\win32',\n",
       " 'D:\\\\Python\\\\PyCharm\\\\Anacondainstall\\\\lib\\\\site-packages\\\\win32\\\\lib',\n",
       " 'D:\\\\Python\\\\PyCharm\\\\Anacondainstall\\\\lib\\\\site-packages\\\\Pythonwin',\n",
       " 'D:\\\\Python\\\\PyCharm\\\\Anacondainstall\\\\lib\\\\site-packages\\\\IPython\\\\extensions',\n",
       " 'C:\\\\Users\\\\李星\\\\.ipython']"
      ]
     },
     "execution_count": 1,
     "metadata": {},
     "output_type": "execute_result"
    }
   ],
   "source": [
    "import sys\n",
    "sys.path"
   ]
  },
  {
   "cell_type": "code",
   "execution_count": 1,
   "metadata": {},
   "outputs": [
    {
     "name": "stdout",
     "output_type": "stream",
     "text": [
      "123\n"
     ]
    }
   ],
   "source": [
    "print(123)"
   ]
  },
  {
   "cell_type": "code",
   "execution_count": null,
   "metadata": {
    "collapsed": true
   },
   "outputs": [],
   "source": []
  }
 ],
 "metadata": {
  "kernelspec": {
   "display_name": "Python 3",
   "language": "python",
   "name": "python3"
  },
  "language_info": {
   "codemirror_mode": {
    "name": "ipython",
    "version": 3
   },
   "file_extension": ".py",
   "mimetype": "text/x-python",
   "name": "python",
   "nbconvert_exporter": "python",
   "pygments_lexer": "ipython3",
   "version": "3.6.3"
  }
 },
 "nbformat": 4,
 "nbformat_minor": 2
}
